{
 "cells": [
  {
   "cell_type": "code",
   "execution_count": 1,
   "metadata": {},
   "outputs": [
    {
     "name": "stdout",
     "output_type": "stream",
     "text": [
      "Collecting ip2geotools\n",
      "  Downloading https://files.pythonhosted.org/packages/54/7d/b7e3252625443b5900feb009eb70527c65c2e5948b0eb7d0ffc063833441/ip2geotools-0.1.5-py3-none-any.whl\n",
      "Requirement already satisfied: chardet>=3.0.4 in c:\\users\\anish.goyal\\appdata\\local\\continuum\\anaconda3\\lib\\site-packages (from ip2geotools) (3.0.4)\n",
      "Requirement already satisfied: requests>=2.20.1 in c:\\users\\anish.goyal\\appdata\\local\\continuum\\anaconda3\\lib\\site-packages (from ip2geotools) (2.22.0)\n",
      "Requirement already satisfied: pkginfo>=1.4.2 in c:\\users\\anish.goyal\\appdata\\local\\continuum\\anaconda3\\lib\\site-packages (from ip2geotools) (1.5.0.1)\n",
      "Requirement already satisfied: pycodestyle>=2.4.0 in c:\\users\\anish.goyal\\appdata\\local\\continuum\\anaconda3\\lib\\site-packages (from ip2geotools) (2.5.0)\n",
      "Collecting maxminddb>=1.4.1 (from ip2geotools)\n",
      "  Downloading https://files.pythonhosted.org/packages/f0/a8/4a12f15f145b1d37851a511ec0093221c057f59809cf891cd1be99de0e24/maxminddb-1.5.2.tar.gz (274kB)\n",
      "Collecting typing>=3.6.6 (from ip2geotools)\n",
      "  Downloading https://files.pythonhosted.org/packages/fe/2e/b480ee1b75e6d17d2993738670e75c1feeb9ff7f64452153cf018051cc92/typing-3.7.4.1-py3-none-any.whl\n",
      "Collecting typed-ast>=1.1.0 (from ip2geotools)\n",
      "  Downloading https://files.pythonhosted.org/packages/6d/6f/c67eed763bcc095d9187c7a04fdc3ba640d1e990368acfcb1d294ff71549/typed_ast-1.4.1-cp37-cp37m-win_amd64.whl (155kB)\n",
      "Requirement already satisfied: docutils>=0.14 in c:\\users\\anish.goyal\\appdata\\local\\continuum\\anaconda3\\lib\\site-packages (from ip2geotools) (0.15.2)\n",
      "Collecting autopep8>=1.4.3 (from ip2geotools)\n",
      "  Downloading https://files.pythonhosted.org/packages/12/55/7b07585ca0c30e5b216e4d627f82f96f1a7e82d2dd727b1f926cb3f3d58b/autopep8-1.5.tar.gz (116kB)\n",
      "Collecting geocoder>=1.38.1 (from ip2geotools)\n",
      "  Downloading https://files.pythonhosted.org/packages/4f/6b/13166c909ad2f2d76b929a4227c952630ebaf0d729f6317eb09cbceccbab/geocoder-1.38.1-py2.py3-none-any.whl (98kB)\n",
      "Collecting IP2Location>=8.0.3 (from ip2geotools)\n",
      "  Downloading https://files.pythonhosted.org/packages/b0/87/d4455844374fac501f2f31643857540fb2ea69e413d32f6764f58b0f0524/IP2Location-8.4.1-py3-none-any.whl\n",
      "Collecting pyquery>=1.4.0 (from ip2geotools)\n",
      "  Downloading https://files.pythonhosted.org/packages/78/43/95d42e386c61cb639d1a0b94f0c0b9f0b7d6b981ad3c043a836c8b5bc68b/pyquery-1.4.1-py2.py3-none-any.whl\n",
      "Requirement already satisfied: certifi>=2018.10.15 in c:\\users\\anish.goyal\\appdata\\local\\continuum\\anaconda3\\lib\\site-packages (from ip2geotools) (2019.9.11)\n",
      "Requirement already satisfied: selenium>=3.141.0 in c:\\users\\anish.goyal\\appdata\\local\\continuum\\anaconda3\\lib\\site-packages (from ip2geotools) (3.141.0)\n",
      "Requirement already satisfied: lxml>=4.2.5 in c:\\users\\anish.goyal\\appdata\\local\\continuum\\anaconda3\\lib\\site-packages (from ip2geotools) (4.4.1)\n",
      "Requirement already satisfied: Click>=7.0 in c:\\users\\anish.goyal\\appdata\\local\\continuum\\anaconda3\\lib\\site-packages (from ip2geotools) (7.0)\n",
      "Requirement already satisfied: decorator>=4.3.0 in c:\\users\\anish.goyal\\appdata\\local\\continuum\\anaconda3\\lib\\site-packages (from ip2geotools) (4.4.0)\n",
      "Requirement already satisfied: bleach>=3.0.2 in c:\\users\\anish.goyal\\appdata\\local\\continuum\\anaconda3\\lib\\site-packages (from ip2geotools) (3.1.0)\n",
      "Requirement already satisfied: idna>=2.7 in c:\\users\\anish.goyal\\appdata\\local\\continuum\\anaconda3\\lib\\site-packages (from ip2geotools) (2.8)\n",
      "Requirement already satisfied: tqdm>=4.28.1 in c:\\users\\anish.goyal\\appdata\\local\\continuum\\anaconda3\\lib\\site-packages (from ip2geotools) (4.36.1)\n",
      "Requirement already satisfied: future>=0.17.1 in c:\\users\\anish.goyal\\appdata\\local\\continuum\\anaconda3\\lib\\site-packages (from ip2geotools) (0.17.1)\n",
      "Collecting ratelim>=0.1.6 (from ip2geotools)\n",
      "  Downloading https://files.pythonhosted.org/packages/f2/98/7e6d147fd16a10a5f821db6e25f192265d6ecca3d82957a4fdd592cad49c/ratelim-0.1.6-py2.py3-none-any.whl\n",
      "Requirement already satisfied: pylint>=2.2.0 in c:\\users\\anish.goyal\\appdata\\local\\continuum\\anaconda3\\lib\\site-packages (from ip2geotools) (2.4.2)\n",
      "Collecting readme-renderer>=24.0 (from ip2geotools)\n",
      "  Downloading https://files.pythonhosted.org/packages/c3/7e/d1aae793900f36b097cbfcc5e70eef82b5b56423a6c52a36dce51fedd8f0/readme_renderer-24.0-py2.py3-none-any.whl\n",
      "Requirement already satisfied: urllib3>=1.24.1 in c:\\users\\anish.goyal\\appdata\\local\\continuum\\anaconda3\\lib\\site-packages (from ip2geotools) (1.24.2)\n",
      "Requirement already satisfied: lazy-object-proxy>=1.3.1 in c:\\users\\anish.goyal\\appdata\\local\\continuum\\anaconda3\\lib\\site-packages (from ip2geotools) (1.4.2)\n",
      "Requirement already satisfied: six>=1.11.0 in c:\\users\\anish.goyal\\appdata\\local\\continuum\\anaconda3\\lib\\site-packages (from ip2geotools) (1.12.0)\n",
      "Requirement already satisfied: webencodings>=0.5.1 in c:\\users\\anish.goyal\\appdata\\local\\continuum\\anaconda3\\lib\\site-packages (from ip2geotools) (0.5.1)\n",
      "Requirement already satisfied: pyparsing>=2.3.0 in c:\\users\\anish.goyal\\appdata\\local\\continuum\\anaconda3\\lib\\site-packages (from ip2geotools) (2.4.2)\n",
      "Collecting cssselect>=1.0.3 (from ip2geotools)\n",
      "  Downloading https://files.pythonhosted.org/packages/3b/d4/3b5c17f00cce85b9a1e6f91096e1cc8e8ede2e1be8e96b87ce1ed09e92c5/cssselect-1.1.0-py2.py3-none-any.whl\n",
      "Requirement already satisfied: wrapt>=1.10.11 in c:\\users\\anish.goyal\\appdata\\local\\continuum\\anaconda3\\lib\\site-packages (from ip2geotools) (1.11.2)\n",
      "Collecting twine>=1.12.1 (from ip2geotools)\n",
      "  Downloading https://files.pythonhosted.org/packages/99/94/08b3b933c611416dad89c8abcc94a6d6c29e8609987235b6e7f10b42de82/twine-3.1.1-py3-none-any.whl\n",
      "Requirement already satisfied: isort>=4.3.4 in c:\\users\\anish.goyal\\appdata\\local\\continuum\\anaconda3\\lib\\site-packages (from ip2geotools) (4.3.21)\n",
      "Collecting requests-toolbelt>=0.8.0 (from ip2geotools)\n",
      "  Downloading https://files.pythonhosted.org/packages/60/ef/7681134338fc097acef8d9b2f8abe0458e4d87559c689a8c306d0957ece5/requests_toolbelt-0.9.1-py2.py3-none-any.whl (54kB)\n",
      "Requirement already satisfied: astroid>=2.1.0 in c:\\users\\anish.goyal\\appdata\\local\\continuum\\anaconda3\\lib\\site-packages (from ip2geotools) (2.3.1)\n",
      "Requirement already satisfied: packaging>=18.0 in c:\\users\\anish.goyal\\appdata\\local\\continuum\\anaconda3\\lib\\site-packages (from ip2geotools) (19.2)\n",
      "Requirement already satisfied: Pygments>=2.3.0 in c:\\users\\anish.goyal\\appdata\\local\\continuum\\anaconda3\\lib\\site-packages (from ip2geotools) (2.4.2)\n",
      "Collecting dicttoxml>=1.7.4 (from ip2geotools)\n",
      "  Downloading https://files.pythonhosted.org/packages/74/36/534db111db9e7610a41641a1f6669a964aacaf51858f466de264cc8dcdd9/dicttoxml-1.7.4.tar.gz\n",
      "Requirement already satisfied: mccabe>=0.6.1 in c:\\users\\anish.goyal\\appdata\\local\\continuum\\anaconda3\\lib\\site-packages (from ip2geotools) (0.6.1)\n",
      "Collecting pip-review>=1.0 (from ip2geotools)\n",
      "  Downloading https://files.pythonhosted.org/packages/92/a0/d978fd28bab000001304a29d560af69a755d9524bece3f6af7f3f1fcccca/pip_review-1.0-py2.py3-none-any.whl\n",
      "Collecting geoip2>=2.9.0 (from ip2geotools)\n",
      "  Downloading https://files.pythonhosted.org/packages/b6/18/228c84599dbc28bc7b3343e9eeaf675193f9bfa4de217d4ebf126c24dce3/geoip2-3.0.0-py2.py3-none-any.whl\n",
      "Requirement already satisfied: colorama; sys_platform == \"win32\" in c:\\users\\anish.goyal\\appdata\\local\\continuum\\anaconda3\\lib\\site-packages (from pylint>=2.2.0->ip2geotools) (0.4.1)\n",
      "Requirement already satisfied: importlib-metadata; python_version < \"3.8\" in c:\\users\\anish.goyal\\appdata\\local\\continuum\\anaconda3\\lib\\site-packages (from twine>=1.12.1->ip2geotools) (0.23)\n",
      "Requirement already satisfied: keyring>=15.1 in c:\\users\\anish.goyal\\appdata\\local\\continuum\\anaconda3\\lib\\site-packages (from twine>=1.12.1->ip2geotools) (18.0.0)\n",
      "Requirement already satisfied: setuptools>=0.7.0 in c:\\users\\anish.goyal\\appdata\\local\\continuum\\anaconda3\\lib\\site-packages (from twine>=1.12.1->ip2geotools) (41.4.0)\n",
      "Requirement already satisfied: pip in c:\\users\\anish.goyal\\appdata\\local\\continuum\\anaconda3\\lib\\site-packages (from pip-review>=1.0->ip2geotools) (19.2.3)\n",
      "Requirement already satisfied: zipp>=0.5 in c:\\users\\anish.goyal\\appdata\\local\\continuum\\anaconda3\\lib\\site-packages (from importlib-metadata; python_version < \"3.8\"->twine>=1.12.1->ip2geotools) (0.6.0)\n",
      "Requirement already satisfied: pywin32; sys_platform == \"win32\" in c:\\users\\anish.goyal\\appdata\\local\\continuum\\anaconda3\\lib\\site-packages (from keyring>=15.1->twine>=1.12.1->ip2geotools) (223)\n",
      "Requirement already satisfied: entrypoints in c:\\users\\anish.goyal\\appdata\\local\\continuum\\anaconda3\\lib\\site-packages (from keyring>=15.1->twine>=1.12.1->ip2geotools) (0.3)\n",
      "Requirement already satisfied: more-itertools in c:\\users\\anish.goyal\\appdata\\local\\continuum\\anaconda3\\lib\\site-packages (from zipp>=0.5->importlib-metadata; python_version < \"3.8\"->twine>=1.12.1->ip2geotools) (7.2.0)\n",
      "Building wheels for collected packages: maxminddb, autopep8, dicttoxml\n",
      "  Building wheel for maxminddb (setup.py): started\n",
      "  Building wheel for maxminddb (setup.py): finished with status 'done'\n",
      "  Created wheel for maxminddb: filename=maxminddb-1.5.2-cp37-none-any.whl size=14908 sha256=ad974e8c6df4e23a2b14bb95e0cc195b0adafe98479b5ed3224d721514c92aac\n",
      "  Stored in directory: C:\\Users\\anish.goyal\\AppData\\Local\\pip\\Cache\\wheels\\de\\72\\0f\\3cd8691e27e01d9dbab6032e4f1a5ba65ef9e42612b8c379d1\n",
      "  Building wheel for autopep8 (setup.py): started\n",
      "  Building wheel for autopep8 (setup.py): finished with status 'done'\n",
      "  Created wheel for autopep8: filename=autopep8-1.5-py2.py3-none-any.whl size=43272 sha256=bba2fa01bc2376f99660fd65ecc87ec43dc3ec4b0af0eb3a6d3a60f2eb0e1256\n",
      "  Stored in directory: C:\\Users\\anish.goyal\\AppData\\Local\\pip\\Cache\\wheels\\2b\\dc\\d5\\e4bc37df332b7a88022bc79d6cdccb79068fdc1620d86afc3a\n",
      "  Building wheel for dicttoxml (setup.py): started\n",
      "  Building wheel for dicttoxml (setup.py): finished with status 'done'\n",
      "  Created wheel for dicttoxml: filename=dicttoxml-1.7.4-cp37-none-any.whl size=17457 sha256=d8aae5f5a8aec7dbe3e59bfe088a10b36b03cc92881b5b7620c09f0d3b4f94b4\n",
      "  Stored in directory: C:\\Users\\anish.goyal\\AppData\\Local\\pip\\Cache\\wheels\\62\\4f\\a3\\afd4a68f5add45a668c14efa53b64d5cffb2be6bacf993c151\n",
      "Successfully built maxminddb autopep8 dicttoxml\n",
      "Installing collected packages: maxminddb, typing, typed-ast, autopep8, ratelim, geocoder, IP2Location, cssselect, pyquery, readme-renderer, requests-toolbelt, twine, dicttoxml, pip-review, geoip2, ip2geotools\n",
      "Successfully installed IP2Location-8.4.1 autopep8-1.5 cssselect-1.1.0 dicttoxml-1.7.4 geocoder-1.38.1 geoip2-3.0.0 ip2geotools-0.1.5 maxminddb-1.5.2 pip-review-1.0 pyquery-1.4.1 ratelim-0.1.6 readme-renderer-24.0 requests-toolbelt-0.9.1 twine-3.1.1 typed-ast-1.4.1 typing-3.7.4.1\n"
     ]
    },
    {
     "name": "stderr",
     "output_type": "stream",
     "text": [
      "ERROR: geoip2 3.0.0 has requirement urllib3>=1.25.2, but you'll have urllib3 1.24.2 which is incompatible.\n"
     ]
    }
   ],
   "source": [
    "!pip install ip2geotools\n",
    "\n",
    "24.105.184.230\n",
    "205.188.116.7\n",
    "168.216.25.186\n",
    "66.25.46.162\n",
    "205.188.116.65\n",
    "68.250.118.120\n",
    "65.69.27.39\n",
    "168.216.40.30\n",
    "216.170.86.184\n",
    "\n",
    "\n",
    "216.109.9.62\n",
    "216.43.217.88\n",
    "204.185.176.125\n",
    "64.25.165.226\n",
    "69.155.21.81"
   ]
  },
  {
   "cell_type": "code",
   "execution_count": 22,
   "metadata": {},
   "outputs": [],
   "source": [
    "from ip2geotools.databases.noncommercial import DbIpCity\n",
    "response = DbIpCity.get('69.155.21.81', api_key='free')"
   ]
  },
  {
   "cell_type": "code",
   "execution_count": 23,
   "metadata": {},
   "outputs": [
    {
     "data": {
      "text/plain": [
       "'Redmond (Downtown)'"
      ]
     },
     "execution_count": 23,
     "metadata": {},
     "output_type": "execute_result"
    }
   ],
   "source": [
    "response.city"
   ]
  },
  {
   "cell_type": "code",
   "execution_count": 11,
   "metadata": {},
   "outputs": [
    {
     "data": {
      "text/plain": [
       "32.9481789"
      ]
     },
     "execution_count": 11,
     "metadata": {},
     "output_type": "execute_result"
    }
   ],
   "source": [
    "response.latitude"
   ]
  },
  {
   "cell_type": "code",
   "execution_count": 12,
   "metadata": {},
   "outputs": [
    {
     "data": {
      "text/plain": [
       "-96.7297206"
      ]
     },
     "execution_count": 12,
     "metadata": {},
     "output_type": "execute_result"
    }
   ],
   "source": [
    "response.longitude"
   ]
  }
 ],
 "metadata": {
  "kernelspec": {
   "display_name": "Python 3",
   "language": "python",
   "name": "python3"
  },
  "language_info": {
   "codemirror_mode": {
    "name": "ipython",
    "version": 3
   },
   "file_extension": ".py",
   "mimetype": "text/x-python",
   "name": "python",
   "nbconvert_exporter": "python",
   "pygments_lexer": "ipython3",
   "version": "3.7.4"
  }
 },
 "nbformat": 4,
 "nbformat_minor": 2
}
